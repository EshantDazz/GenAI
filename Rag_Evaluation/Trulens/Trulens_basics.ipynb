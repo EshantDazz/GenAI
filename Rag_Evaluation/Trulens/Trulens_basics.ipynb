{
 "cells": [
  {
   "cell_type": "code",
   "execution_count": 83,
   "metadata": {},
   "outputs": [],
   "source": [
    "#Using Normal Openai \n",
    "\n",
    "import os\n",
    "import openai\n",
    "from dotenv import load_dotenv\n",
    "load_dotenv('myenv/.env')\n",
    "a=os.environ.get('OPENAI_API_KEY')\n",
    "openai.api_key=a\n"
   ]
  },
  {
   "cell_type": "code",
   "execution_count": 84,
   "metadata": {},
   "outputs": [],
   "source": [
    "#Simply loading the files \n",
    "\n",
    "from llama_index.core import SimpleDirectoryReader\n",
    "documents = SimpleDirectoryReader(\n",
    "    input_files=[\"/Users/eshantdas/Desktop/Deeplearning_hehehe/Advance_lag/ebook.pdf\"]\n",
    ").load_data()"
   ]
  },
  {
   "cell_type": "code",
   "execution_count": 145,
   "metadata": {},
   "outputs": [],
   "source": [
    "#Creating the Trulens Instance\n",
    "\n",
    "from trulens_eval import Tru\n",
    "tru = Tru()\n",
    "tru.reset_database()"
   ]
  },
  {
   "cell_type": "code",
   "execution_count": 146,
   "metadata": {},
   "outputs": [
    {
     "name": "stdout",
     "output_type": "stream",
     "text": [
      "<class 'list'> \n",
      "\n",
      "41 \n",
      "\n",
      "<class 'llama_index.core.schema.Document'>\n",
      "Doc ID: 7357a164-fefb-43cf-915c-fffede211589\n",
      "Text: PAGE 1Founder, DeepLearning.AICollected Insights from Andrew Ng\n",
      "How to  Build Your Career in AIA Simple Guide\n"
     ]
    }
   ],
   "source": [
    "print(type(documents), \"\\n\")\n",
    "print(len(documents), \"\\n\")\n",
    "print(type(documents[0]))\n",
    "print(documents[0])"
   ]
  },
  {
   "cell_type": "code",
   "execution_count": 87,
   "metadata": {},
   "outputs": [],
   "source": [
    "import warnings\n",
    "warnings.filterwarnings('ignore')"
   ]
  },
  {
   "cell_type": "code",
   "execution_count": null,
   "metadata": {},
   "outputs": [],
   "source": []
  },
  {
   "attachments": {},
   "cell_type": "markdown",
   "metadata": {},
   "source": [
    "### Basic Rag Pipeline"
   ]
  },
  {
   "cell_type": "code",
   "execution_count": 88,
   "metadata": {},
   "outputs": [],
   "source": [
    "from llama_index.core import Document\n",
    "document = Document(text=\"\\n\\n\".join([doc.text for doc in documents]))"
   ]
  },
  {
   "cell_type": "code",
   "execution_count": 89,
   "metadata": {},
   "outputs": [],
   "source": [
    "\n",
    "from llama_index.embeddings.azure_openai import AzureOpenAIEmbedding\n",
    "from llama_index.llms.azure_openai import AzureOpenAI\n",
    "# embed_model = AzureOpenAIEmbedding(\n",
    "#     model=\"text-embedding-ada-002\",\n",
    "#     deployment_name=\"ada-embedding-model\",\n",
    "#     api_key='your_key',\n",
    "#     azure_endpoint='your_endpoint',\n",
    "#     api_version='2023-05-15'\n",
    "# )\n",
    "# llm = AzureOpenAI(\n",
    "#     model=\"gpt-4-32k\",\n",
    "#     deployment_name=\"your_depployment_name\",\n",
    "#     api_key='your_key',\n",
    "#     azure_endpoint='your_endpoint',\n",
    "#     api_version='2023-05-15'\n",
    "# )\n"
   ]
  },
  {
   "cell_type": "code",
   "execution_count": 90,
   "metadata": {},
   "outputs": [],
   "source": [
    "load_dotenv('myenv/.env')\n",
    "a=os.environ.get('OPENAI_API_KEY')\n",
    "openai.api_key=a"
   ]
  },
  {
   "cell_type": "code",
   "execution_count": 91,
   "metadata": {},
   "outputs": [],
   "source": [
    "#Initialising the Openai and OpenAIEmbedding\n",
    "\n",
    "from llama_index.llms.openai import OpenAI\n",
    "from llama_index.embeddings.openai import OpenAIEmbedding\n",
    "llm=OpenAI()\n",
    "embed_model=OpenAIEmbedding()"
   ]
  },
  {
   "cell_type": "code",
   "execution_count": 92,
   "metadata": {},
   "outputs": [],
   "source": [
    "#Storing the Index\n",
    "\n",
    "from llama_index.core import VectorStoreIndex\n",
    "from llama_index.core import ServiceContext\n",
    "from llama_index.llms.openai import OpenAI\n",
    "\n",
    "# llm = OpenAI(model=\"gpt-3.5-turbo\", temperature=0.1)\n",
    "service_context = ServiceContext.from_defaults(\n",
    "    llm=llm, embed_model=embed_model\n",
    ")\n",
    "index = VectorStoreIndex.from_documents([document],\n",
    "                                        service_context=service_context)"
   ]
  },
  {
   "cell_type": "code",
   "execution_count": 93,
   "metadata": {},
   "outputs": [],
   "source": [
    "#Creating the query Engine\n",
    "\n",
    "query_engine = index.as_query_engine()"
   ]
  },
  {
   "cell_type": "code",
   "execution_count": 94,
   "metadata": {},
   "outputs": [
    {
     "name": "stdout",
     "output_type": "stream",
     "text": [
      "Develop a side hustle, ensure the project will help you grow technically, collaborate with good teammates, and consider if the project can be a stepping stone to larger projects.\n"
     ]
    }
   ],
   "source": [
    "#getting the response\n",
    "\n",
    "response = query_engine.query(\n",
    "    \"What are steps to take when finding projects to build your experience?\"\n",
    ")\n",
    "print(str(response))"
   ]
  },
  {
   "cell_type": "code",
   "execution_count": null,
   "metadata": {},
   "outputs": [],
   "source": []
  },
  {
   "attachments": {},
   "cell_type": "markdown",
   "metadata": {},
   "source": [
    "### Evaluation setup using TruLens"
   ]
  },
  {
   "cell_type": "code",
   "execution_count": 95,
   "metadata": {},
   "outputs": [
    {
     "name": "stdout",
     "output_type": "stream",
     "text": [
      "What are the keys to building a career in AI?\n",
      "How can teamwork contribute to success in AI?\n",
      "What is the importance of networking in AI?\n",
      "What are some good habits to develop for a successful career?\n",
      "How can altruism be beneficial in building a career?\n",
      "What is imposter syndrome and how does it relate to AI?\n",
      "Who are some accomplished individuals who have experienced imposter syndrome?\n",
      "What is the first step to becoming good at AI?\n",
      "What are some common challenges in AI?\n",
      "Is it normal to find parts of AI challenging?\n"
     ]
    }
   ],
   "source": [
    "#There is a txt file which has alot of questions and we will have that in the form of a list\n",
    "\n",
    "eval_questions = []\n",
    "with open('eval_questions.txt', 'r') as file:\n",
    "    for line in file:\n",
    "        # Remove newline character and convert to integer\n",
    "        item = line.strip()\n",
    "        print(item)\n",
    "        eval_questions.append(item)"
   ]
  },
  {
   "cell_type": "code",
   "execution_count": 96,
   "metadata": {},
   "outputs": [
    {
     "data": {
      "text/plain": [
       "['What are the keys to building a career in AI?',\n",
       " 'How can teamwork contribute to success in AI?',\n",
       " 'What is the importance of networking in AI?',\n",
       " 'What are some good habits to develop for a successful career?',\n",
       " 'How can altruism be beneficial in building a career?',\n",
       " 'What is imposter syndrome and how does it relate to AI?',\n",
       " 'Who are some accomplished individuals who have experienced imposter syndrome?',\n",
       " 'What is the first step to becoming good at AI?',\n",
       " 'What are some common challenges in AI?',\n",
       " 'Is it normal to find parts of AI challenging?',\n",
       " 'What is the right AI job for me?']"
      ]
     },
     "execution_count": 96,
     "metadata": {},
     "output_type": "execute_result"
    }
   ],
   "source": [
    "# You can try your own question :\n",
    "new_question = \"What is the right AI job for me?\"\n",
    "eval_questions.append(new_question)\n",
    "eval_questions"
   ]
  },
  {
   "cell_type": "code",
   "execution_count": null,
   "metadata": {},
   "outputs": [],
   "source": []
  },
  {
   "cell_type": "code",
   "execution_count": 97,
   "metadata": {},
   "outputs": [],
   "source": [
    "from trulens_eval import Tru\n",
    "tru = Tru()\n",
    "\n",
    "# tru.reset_database()"
   ]
  },
  {
   "cell_type": "code",
   "execution_count": 98,
   "metadata": {},
   "outputs": [],
   "source": [
    "#There is a utils file which I will be providing and it will contain the code to run the trulens recorder\n",
    "\n",
    "from utils import get_prebuilt_trulens_recorder\n",
    "\n",
    "tru_recorder = get_prebuilt_trulens_recorder(query_engine,\n",
    "                                             app_id=\"Direct Query Engine\")"
   ]
  },
  {
   "cell_type": "code",
   "execution_count": 100,
   "metadata": {},
   "outputs": [],
   "source": [
    "#Storing the responses as a recording in Trulens\n",
    "\n",
    "\n",
    "with tru_recorder as recording:\n",
    "    for question in eval_questions:\n",
    "        response = query_engine.query(question)"
   ]
  },
  {
   "cell_type": "code",
   "execution_count": 101,
   "metadata": {},
   "outputs": [],
   "source": [
    "\n",
    "\n",
    "records, feedback = tru.get_records_and_feedback(app_ids=[])"
   ]
  },
  {
   "cell_type": "code",
   "execution_count": 102,
   "metadata": {},
   "outputs": [
    {
     "data": {
      "text/html": [
       "<div>\n",
       "<style scoped>\n",
       "    .dataframe tbody tr th:only-of-type {\n",
       "        vertical-align: middle;\n",
       "    }\n",
       "\n",
       "    .dataframe tbody tr th {\n",
       "        vertical-align: top;\n",
       "    }\n",
       "\n",
       "    .dataframe thead th {\n",
       "        text-align: right;\n",
       "    }\n",
       "</style>\n",
       "<table border=\"1\" class=\"dataframe\">\n",
       "  <thead>\n",
       "    <tr style=\"text-align: right;\">\n",
       "      <th></th>\n",
       "      <th>app_id</th>\n",
       "      <th>app_json</th>\n",
       "      <th>type</th>\n",
       "      <th>record_id</th>\n",
       "      <th>input</th>\n",
       "      <th>output</th>\n",
       "      <th>tags</th>\n",
       "      <th>record_json</th>\n",
       "      <th>cost_json</th>\n",
       "      <th>perf_json</th>\n",
       "      <th>ts</th>\n",
       "      <th>Answer Relevance</th>\n",
       "      <th>Context Relevance</th>\n",
       "      <th>Groundedness</th>\n",
       "      <th>Answer Relevance_calls</th>\n",
       "      <th>Context Relevance_calls</th>\n",
       "      <th>Groundedness_calls</th>\n",
       "      <th>latency</th>\n",
       "      <th>total_tokens</th>\n",
       "      <th>total_cost</th>\n",
       "    </tr>\n",
       "  </thead>\n",
       "  <tbody>\n",
       "    <tr>\n",
       "      <th>0</th>\n",
       "      <td>Direct Query Engine</td>\n",
       "      <td>{\"tru_class_info\": {\"name\": \"TruLlama\", \"modul...</td>\n",
       "      <td>RetrieverQueryEngine(llama_index.core.query_en...</td>\n",
       "      <td>record_hash_d041b0ee625a47f8b9648ac78033a73c</td>\n",
       "      <td>\"What are the keys to building a career in AI?\"</td>\n",
       "      <td>\"Keys to building a career in AI include learn...</td>\n",
       "      <td>-</td>\n",
       "      <td>{\"record_id\": \"record_hash_d041b0ee625a47f8b96...</td>\n",
       "      <td>{\"n_requests\": 2, \"n_successful_requests\": 2, ...</td>\n",
       "      <td>{\"start_time\": \"2024-04-12T13:28:45.123838\", \"...</td>\n",
       "      <td>2024-04-12T13:28:48.597432</td>\n",
       "      <td>0.8</td>\n",
       "      <td>0.80</td>\n",
       "      <td>0.4625</td>\n",
       "      <td>[{'args': {'prompt': 'What are the keys to bui...</td>\n",
       "      <td>[{'args': {'prompt': 'What are the keys to bui...</td>\n",
       "      <td>[{'args': {'source': 'PAGE 1Founder, DeepLearn...</td>\n",
       "      <td>3</td>\n",
       "      <td>1697</td>\n",
       "      <td>0.002559</td>\n",
       "    </tr>\n",
       "    <tr>\n",
       "      <th>1</th>\n",
       "      <td>Direct Query Engine</td>\n",
       "      <td>{\"tru_class_info\": {\"name\": \"TruLlama\", \"modul...</td>\n",
       "      <td>RetrieverQueryEngine(llama_index.core.query_en...</td>\n",
       "      <td>record_hash_ea5af86f4b767e4e05101de33a794ac3</td>\n",
       "      <td>\"How can teamwork contribute to success in AI?\"</td>\n",
       "      <td>\"Teamwork can contribute to success in AI by a...</td>\n",
       "      <td>-</td>\n",
       "      <td>{\"record_id\": \"record_hash_ea5af86f4b767e4e051...</td>\n",
       "      <td>{\"n_requests\": 2, \"n_successful_requests\": 2, ...</td>\n",
       "      <td>{\"start_time\": \"2024-04-12T13:28:48.814672\", \"...</td>\n",
       "      <td>2024-04-12T13:28:51.610424</td>\n",
       "      <td>0.9</td>\n",
       "      <td>0.10</td>\n",
       "      <td>0.9000</td>\n",
       "      <td>[{'args': {'prompt': 'How can teamwork contrib...</td>\n",
       "      <td>[{'args': {'prompt': 'How can teamwork contrib...</td>\n",
       "      <td>[{'args': {'source': 'Hopefully the previous c...</td>\n",
       "      <td>2</td>\n",
       "      <td>1683</td>\n",
       "      <td>0.002552</td>\n",
       "    </tr>\n",
       "    <tr>\n",
       "      <th>2</th>\n",
       "      <td>Direct Query Engine</td>\n",
       "      <td>{\"tru_class_info\": {\"name\": \"TruLlama\", \"modul...</td>\n",
       "      <td>RetrieverQueryEngine(llama_index.core.query_en...</td>\n",
       "      <td>record_hash_48fcea996b5b7cad6492b7669e70e579</td>\n",
       "      <td>\"What is the importance of networking in AI?\"</td>\n",
       "      <td>\"Networking in AI is crucial as it helps in bu...</td>\n",
       "      <td>-</td>\n",
       "      <td>{\"record_id\": \"record_hash_48fcea996b5b7cad649...</td>\n",
       "      <td>{\"n_requests\": 2, \"n_successful_requests\": 2, ...</td>\n",
       "      <td>{\"start_time\": \"2024-04-12T13:28:51.808760\", \"...</td>\n",
       "      <td>2024-04-12T13:28:54.459781</td>\n",
       "      <td>0.9</td>\n",
       "      <td>0.10</td>\n",
       "      <td>0.9250</td>\n",
       "      <td>[{'args': {'prompt': 'What is the importance o...</td>\n",
       "      <td>[{'args': {'prompt': 'What is the importance o...</td>\n",
       "      <td>[{'args': {'source': 'Hopefully the previous c...</td>\n",
       "      <td>2</td>\n",
       "      <td>1676</td>\n",
       "      <td>0.002538</td>\n",
       "    </tr>\n",
       "    <tr>\n",
       "      <th>3</th>\n",
       "      <td>Direct Query Engine</td>\n",
       "      <td>{\"tru_class_info\": {\"name\": \"TruLlama\", \"modul...</td>\n",
       "      <td>RetrieverQueryEngine(llama_index.core.query_en...</td>\n",
       "      <td>record_hash_5602f2ef94f1eb9553dd1f6e5d1cb08b</td>\n",
       "      <td>\"What are some good habits to develop for a su...</td>\n",
       "      <td>\"Developing good habits in areas such as eatin...</td>\n",
       "      <td>-</td>\n",
       "      <td>{\"record_id\": \"record_hash_5602f2ef94f1eb9553d...</td>\n",
       "      <td>{\"n_requests\": 2, \"n_successful_requests\": 2, ...</td>\n",
       "      <td>{\"start_time\": \"2024-04-12T13:28:54.665264\", \"...</td>\n",
       "      <td>2024-04-12T13:28:56.953762</td>\n",
       "      <td>1.0</td>\n",
       "      <td>0.80</td>\n",
       "      <td>1.0000</td>\n",
       "      <td>[{'args': {'prompt': 'What are some good habit...</td>\n",
       "      <td>[{'args': {'prompt': 'What are some good habit...</td>\n",
       "      <td>[{'args': {'source': 'Hopefully the previous c...</td>\n",
       "      <td>2</td>\n",
       "      <td>1643</td>\n",
       "      <td>0.002465</td>\n",
       "    </tr>\n",
       "    <tr>\n",
       "      <th>4</th>\n",
       "      <td>Direct Query Engine</td>\n",
       "      <td>{\"tru_class_info\": {\"name\": \"TruLlama\", \"modul...</td>\n",
       "      <td>RetrieverQueryEngine(llama_index.core.query_en...</td>\n",
       "      <td>record_hash_7d84cbf6b886dda1195fbca0554816c6</td>\n",
       "      <td>\"How can altruism be beneficial in building a ...</td>\n",
       "      <td>\"Helping others during the journey of building...</td>\n",
       "      <td>-</td>\n",
       "      <td>{\"record_id\": \"record_hash_7d84cbf6b886dda1195...</td>\n",
       "      <td>{\"n_requests\": 2, \"n_successful_requests\": 2, ...</td>\n",
       "      <td>{\"start_time\": \"2024-04-12T13:28:57.175890\", \"...</td>\n",
       "      <td>2024-04-12T13:28:59.041753</td>\n",
       "      <td>0.8</td>\n",
       "      <td>0.45</td>\n",
       "      <td>0.8250</td>\n",
       "      <td>[{'args': {'prompt': 'How can altruism be bene...</td>\n",
       "      <td>[{'args': {'prompt': 'How can altruism be bene...</td>\n",
       "      <td>[{'args': {'source': 'Hopefully the previous c...</td>\n",
       "      <td>1</td>\n",
       "      <td>1623</td>\n",
       "      <td>0.002427</td>\n",
       "    </tr>\n",
       "  </tbody>\n",
       "</table>\n",
       "</div>"
      ],
      "text/plain": [
       "                app_id                                           app_json  \\\n",
       "0  Direct Query Engine  {\"tru_class_info\": {\"name\": \"TruLlama\", \"modul...   \n",
       "1  Direct Query Engine  {\"tru_class_info\": {\"name\": \"TruLlama\", \"modul...   \n",
       "2  Direct Query Engine  {\"tru_class_info\": {\"name\": \"TruLlama\", \"modul...   \n",
       "3  Direct Query Engine  {\"tru_class_info\": {\"name\": \"TruLlama\", \"modul...   \n",
       "4  Direct Query Engine  {\"tru_class_info\": {\"name\": \"TruLlama\", \"modul...   \n",
       "\n",
       "                                                type  \\\n",
       "0  RetrieverQueryEngine(llama_index.core.query_en...   \n",
       "1  RetrieverQueryEngine(llama_index.core.query_en...   \n",
       "2  RetrieverQueryEngine(llama_index.core.query_en...   \n",
       "3  RetrieverQueryEngine(llama_index.core.query_en...   \n",
       "4  RetrieverQueryEngine(llama_index.core.query_en...   \n",
       "\n",
       "                                      record_id  \\\n",
       "0  record_hash_d041b0ee625a47f8b9648ac78033a73c   \n",
       "1  record_hash_ea5af86f4b767e4e05101de33a794ac3   \n",
       "2  record_hash_48fcea996b5b7cad6492b7669e70e579   \n",
       "3  record_hash_5602f2ef94f1eb9553dd1f6e5d1cb08b   \n",
       "4  record_hash_7d84cbf6b886dda1195fbca0554816c6   \n",
       "\n",
       "                                               input  \\\n",
       "0    \"What are the keys to building a career in AI?\"   \n",
       "1    \"How can teamwork contribute to success in AI?\"   \n",
       "2      \"What is the importance of networking in AI?\"   \n",
       "3  \"What are some good habits to develop for a su...   \n",
       "4  \"How can altruism be beneficial in building a ...   \n",
       "\n",
       "                                              output tags  \\\n",
       "0  \"Keys to building a career in AI include learn...    -   \n",
       "1  \"Teamwork can contribute to success in AI by a...    -   \n",
       "2  \"Networking in AI is crucial as it helps in bu...    -   \n",
       "3  \"Developing good habits in areas such as eatin...    -   \n",
       "4  \"Helping others during the journey of building...    -   \n",
       "\n",
       "                                         record_json  \\\n",
       "0  {\"record_id\": \"record_hash_d041b0ee625a47f8b96...   \n",
       "1  {\"record_id\": \"record_hash_ea5af86f4b767e4e051...   \n",
       "2  {\"record_id\": \"record_hash_48fcea996b5b7cad649...   \n",
       "3  {\"record_id\": \"record_hash_5602f2ef94f1eb9553d...   \n",
       "4  {\"record_id\": \"record_hash_7d84cbf6b886dda1195...   \n",
       "\n",
       "                                           cost_json  \\\n",
       "0  {\"n_requests\": 2, \"n_successful_requests\": 2, ...   \n",
       "1  {\"n_requests\": 2, \"n_successful_requests\": 2, ...   \n",
       "2  {\"n_requests\": 2, \"n_successful_requests\": 2, ...   \n",
       "3  {\"n_requests\": 2, \"n_successful_requests\": 2, ...   \n",
       "4  {\"n_requests\": 2, \"n_successful_requests\": 2, ...   \n",
       "\n",
       "                                           perf_json  \\\n",
       "0  {\"start_time\": \"2024-04-12T13:28:45.123838\", \"...   \n",
       "1  {\"start_time\": \"2024-04-12T13:28:48.814672\", \"...   \n",
       "2  {\"start_time\": \"2024-04-12T13:28:51.808760\", \"...   \n",
       "3  {\"start_time\": \"2024-04-12T13:28:54.665264\", \"...   \n",
       "4  {\"start_time\": \"2024-04-12T13:28:57.175890\", \"...   \n",
       "\n",
       "                           ts  Answer Relevance  Context Relevance  \\\n",
       "0  2024-04-12T13:28:48.597432               0.8               0.80   \n",
       "1  2024-04-12T13:28:51.610424               0.9               0.10   \n",
       "2  2024-04-12T13:28:54.459781               0.9               0.10   \n",
       "3  2024-04-12T13:28:56.953762               1.0               0.80   \n",
       "4  2024-04-12T13:28:59.041753               0.8               0.45   \n",
       "\n",
       "   Groundedness                             Answer Relevance_calls  \\\n",
       "0        0.4625  [{'args': {'prompt': 'What are the keys to bui...   \n",
       "1        0.9000  [{'args': {'prompt': 'How can teamwork contrib...   \n",
       "2        0.9250  [{'args': {'prompt': 'What is the importance o...   \n",
       "3        1.0000  [{'args': {'prompt': 'What are some good habit...   \n",
       "4        0.8250  [{'args': {'prompt': 'How can altruism be bene...   \n",
       "\n",
       "                             Context Relevance_calls  \\\n",
       "0  [{'args': {'prompt': 'What are the keys to bui...   \n",
       "1  [{'args': {'prompt': 'How can teamwork contrib...   \n",
       "2  [{'args': {'prompt': 'What is the importance o...   \n",
       "3  [{'args': {'prompt': 'What are some good habit...   \n",
       "4  [{'args': {'prompt': 'How can altruism be bene...   \n",
       "\n",
       "                                  Groundedness_calls  latency  total_tokens  \\\n",
       "0  [{'args': {'source': 'PAGE 1Founder, DeepLearn...        3          1697   \n",
       "1  [{'args': {'source': 'Hopefully the previous c...        2          1683   \n",
       "2  [{'args': {'source': 'Hopefully the previous c...        2          1676   \n",
       "3  [{'args': {'source': 'Hopefully the previous c...        2          1643   \n",
       "4  [{'args': {'source': 'Hopefully the previous c...        1          1623   \n",
       "\n",
       "   total_cost  \n",
       "0    0.002559  \n",
       "1    0.002552  \n",
       "2    0.002538  \n",
       "3    0.002465  \n",
       "4    0.002427  "
      ]
     },
     "execution_count": 102,
     "metadata": {},
     "output_type": "execute_result"
    }
   ],
   "source": [
    "#getting a view of the records which were stored in a dataframe\n",
    "records.head()"
   ]
  },
  {
   "cell_type": "code",
   "execution_count": 103,
   "metadata": {},
   "outputs": [
    {
     "data": {
      "text/plain": [
       "pandas.core.frame.DataFrame"
      ]
     },
     "execution_count": 103,
     "metadata": {},
     "output_type": "execute_result"
    }
   ],
   "source": [
    "type(records)"
   ]
  },
  {
   "cell_type": "code",
   "execution_count": 104,
   "metadata": {},
   "outputs": [],
   "source": [
    "import pandas as pd\n",
    "records.to_csv('output.csv', index=False) "
   ]
  },
  {
   "cell_type": "code",
   "execution_count": 105,
   "metadata": {},
   "outputs": [],
   "source": [
    "import os\n",
    "os.environ[\"TOKENIZERS_PARALLELISM\"] = \"false\"\n"
   ]
  },
  {
   "cell_type": "code",
   "execution_count": 106,
   "metadata": {},
   "outputs": [
    {
     "name": "stdout",
     "output_type": "stream",
     "text": [
      "Starting dashboard ...\n",
      "Config file already exists. Skipping writing process.\n",
      "Credentials file already exists. Skipping writing process.\n",
      "Dashboard already running at path:   Network URL: http://192.168.0.144:8501\n",
      "\n"
     ]
    }
   ],
   "source": [
    "# launches on http://localhost:8501/\n",
    "\n",
    "#See the results in a streamlit app\n",
    "tru.run_dashboard();"
   ]
  },
  {
   "cell_type": "code",
   "execution_count": null,
   "metadata": {},
   "outputs": [],
   "source": []
  },
  {
   "attachments": {},
   "cell_type": "markdown",
   "metadata": {},
   "source": [
    "### `Sentence Window Retrieval`"
   ]
  },
  {
   "cell_type": "code",
   "execution_count": 147,
   "metadata": {},
   "outputs": [],
   "source": [
    "#THe codes below this block will be showing how you can run a query engine using Sentence Window Retrieval"
   ]
  },
  {
   "cell_type": "code",
   "execution_count": 107,
   "metadata": {},
   "outputs": [],
   "source": [
    "from llama_index.llms.openai import OpenAI\n",
    "llm = AzureOpenAI(\n",
    "    model=\"gpt-4-32k\",\n",
    "    deployment_name=\"your_deployment_name\",\n",
    "    api_key='your_key',\n",
    "    azure_endpoint='your_endpoint',\n",
    "    api_version='2023-05-15'\n",
    ")"
   ]
  },
  {
   "cell_type": "code",
   "execution_count": 129,
   "metadata": {},
   "outputs": [],
   "source": [
    "llm=OpenAI()\n",
    "embed_model=OpenAIEmbedding()"
   ]
  },
  {
   "cell_type": "code",
   "execution_count": 130,
   "metadata": {},
   "outputs": [],
   "source": [
    "from utils import build_sentence_window_index\n",
    "sentence_index = build_sentence_window_index(\n",
    "    document,\n",
    "    llm,\n",
    "    embed_model=embed_model,\n",
    "    save_dir=\"sentence_index\",\n",
    ")"
   ]
  },
  {
   "cell_type": "code",
   "execution_count": 131,
   "metadata": {},
   "outputs": [],
   "source": [
    "from utils import get_sentence_window_query_engine\n",
    "\n",
    "sentence_window_engine = get_sentence_window_query_engine(sentence_index)"
   ]
  },
  {
   "cell_type": "code",
   "execution_count": 132,
   "metadata": {},
   "outputs": [],
   "source": [
    "window_response = sentence_window_engine.query(\n",
    "    \"how do I get started on a personal project in AI?\"\n",
    ")\n",
    "# print(str(window_response))"
   ]
  },
  {
   "cell_type": "code",
   "execution_count": 133,
   "metadata": {},
   "outputs": [],
   "source": [
    "# tru.reset_database()\n",
    "\n",
    "tru_recorder_sentence_window = get_prebuilt_trulens_recorder(\n",
    "    sentence_window_engine,\n",
    "    app_id = \"Sentence Window Query Engine\"\n",
    ")"
   ]
  },
  {
   "cell_type": "code",
   "execution_count": 134,
   "metadata": {},
   "outputs": [
    {
     "name": "stdout",
     "output_type": "stream",
     "text": [
      "What are the keys to building a career in AI?\n",
      "The keys to building a career in AI involve learning foundational technical skills, working on projects, finding a job, and being part of a supportive community.\n",
      "How can teamwork contribute to success in AI?\n",
      "Teamwork can contribute to success in AI by allowing individuals to collaborate effectively, influence one another, and be influenced by others. Working in teams on large projects in AI can lead to better outcomes compared to working individually. Interpersonal and communication skills play a crucial role in teamwork, as they enable team members to work together efficiently and share insights and expertise, ultimately enhancing the overall project success.\n",
      "What is the importance of networking in AI?\n",
      "Networking in AI is crucial as it not only provides valuable information but also opens up opportunities for referrals to potential employers. Building a network within the AI community can help individuals receive guidance, support, and insights from experienced professionals, ultimately aiding in finding the right job and advancing in the field. Additionally, networking allows individuals to pay it forward by helping others who are new to the field, creating a cycle of support and growth within the community.\n",
      "What are some good habits to develop for a successful career?\n",
      "Developing good habits in areas such as eating, exercise, sleep, personal relationships, work, learning, and self-care can contribute to a successful career. These habits can help individuals move forward while maintaining their health and well-being. Additionally, aiming to lift others during each step of one's own journey can lead to better outcomes and success in building an exciting career.\n",
      "How can altruism be beneficial in building a career?\n",
      "Altruism can be beneficial in building a career by creating opportunities to lift others up during one's own journey. This approach often leads to better outcomes for oneself as well. By helping others and contributing positively to their growth and success, individuals can also enhance their own skills, expand their network, and gain valuable experiences that can ultimately support their career advancement.\n",
      "What is imposter syndrome and how does it relate to AI?\n",
      "Imposter syndrome is a psychological pattern where individuals doubt their accomplishments and have a persistent fear of being exposed as a fraud. In the context of AI, newcomers to the field may experience imposter syndrome, feeling like they do not truly belong in the AI community despite their success. This can be discouraging but it is important to address and overcome to continue growing in the field.\n",
      "Who are some accomplished individuals who have experienced imposter syndrome?\n",
      "Former Facebook COO Sheryl Sandberg, U.S. first lady Michelle Obama, actor Tom Hanks, and Atlassian co-CEO Mike Cannon-Brookes are some accomplished individuals who have experienced imposter syndrome.\n",
      "What is the first step to becoming good at AI?\n",
      "The first step to becoming good at AI is to learn foundational technical skills.\n",
      "What are some common challenges in AI?\n",
      "Common challenges in AI include the evolving nature of technologies, the need to constantly keep up-to-date with changing technology, the difficulty in estimating project timelines and return on investment due to the iterative nature of AI projects, the challenge of collaborating with stakeholders who lack expertise in AI, and the inconsistency in opinions on AI skills and job roles.\n",
      "Is it normal to find parts of AI challenging?\n",
      "It is normal to find parts of AI challenging.\n",
      "What is the right AI job for me?\n",
      "The right AI job for you can be determined by considering your skills, interests, and career goals. It is important to assess what aspects of AI you are passionate about and what specific roles within the field align with your strengths. Conducting informational interviews with professionals in the AI industry can also provide valuable insights into different job opportunities and help you identify the right fit for your career path. Additionally, building a portfolio of AI projects that demonstrate your skills and progression can enhance your chances of securing a job that aligns with your interests and expertise.\n"
     ]
    }
   ],
   "source": [
    "for question in eval_questions:\n",
    "    with tru_recorder_sentence_window as recording:\n",
    "        response = sentence_window_engine.query(question)\n",
    "        print(question)\n",
    "        print(str(response))"
   ]
  },
  {
   "cell_type": "code",
   "execution_count": 135,
   "metadata": {},
   "outputs": [
    {
     "data": {
      "text/html": [
       "<div>\n",
       "<style scoped>\n",
       "    .dataframe tbody tr th:only-of-type {\n",
       "        vertical-align: middle;\n",
       "    }\n",
       "\n",
       "    .dataframe tbody tr th {\n",
       "        vertical-align: top;\n",
       "    }\n",
       "\n",
       "    .dataframe thead th {\n",
       "        text-align: right;\n",
       "    }\n",
       "</style>\n",
       "<table border=\"1\" class=\"dataframe\">\n",
       "  <thead>\n",
       "    <tr style=\"text-align: right;\">\n",
       "      <th></th>\n",
       "      <th>Groundedness</th>\n",
       "      <th>Answer Relevance</th>\n",
       "      <th>Context Relevance</th>\n",
       "      <th>latency</th>\n",
       "      <th>total_cost</th>\n",
       "    </tr>\n",
       "    <tr>\n",
       "      <th>app_id</th>\n",
       "      <th></th>\n",
       "      <th></th>\n",
       "      <th></th>\n",
       "      <th></th>\n",
       "      <th></th>\n",
       "    </tr>\n",
       "  </thead>\n",
       "  <tbody>\n",
       "    <tr>\n",
       "      <th>Direct Query Engine</th>\n",
       "      <td>0.759903</td>\n",
       "      <td>0.881818</td>\n",
       "      <td>0.359091</td>\n",
       "      <td>2.090909</td>\n",
       "      <td>0.002850</td>\n",
       "    </tr>\n",
       "    <tr>\n",
       "      <th>Sentence Window Query Engine</th>\n",
       "      <td>0.686364</td>\n",
       "      <td>0.927273</td>\n",
       "      <td>0.481818</td>\n",
       "      <td>2.090909</td>\n",
       "      <td>0.000933</td>\n",
       "    </tr>\n",
       "  </tbody>\n",
       "</table>\n",
       "</div>"
      ],
      "text/plain": [
       "                              Groundedness  Answer Relevance  \\\n",
       "app_id                                                         \n",
       "Direct Query Engine               0.759903          0.881818   \n",
       "Sentence Window Query Engine      0.686364          0.927273   \n",
       "\n",
       "                              Context Relevance   latency  total_cost  \n",
       "app_id                                                                 \n",
       "Direct Query Engine                    0.359091  2.090909    0.002850  \n",
       "Sentence Window Query Engine           0.481818  2.090909    0.000933  "
      ]
     },
     "execution_count": 135,
     "metadata": {},
     "output_type": "execute_result"
    }
   ],
   "source": [
    "tru.get_leaderboard(app_ids=[])"
   ]
  },
  {
   "cell_type": "code",
   "execution_count": 136,
   "metadata": {},
   "outputs": [
    {
     "name": "stdout",
     "output_type": "stream",
     "text": [
      "Starting dashboard ...\n",
      "Config file already exists. Skipping writing process.\n",
      "Credentials file already exists. Skipping writing process.\n",
      "Dashboard already running at path:   Network URL: http://192.168.0.144:8501\n",
      "\n"
     ]
    },
    {
     "data": {
      "text/plain": [
       "<Popen: returncode: None args: ['streamlit', 'run', '--server.headless=True'...>"
      ]
     },
     "execution_count": 136,
     "metadata": {},
     "output_type": "execute_result"
    }
   ],
   "source": [
    "# launches on http://localhost:8501/\n",
    "\n",
    "#Here you will see the difference between Sentence Window Query Engine and Normal QUery Engine how the performence varries\n",
    "tru.run_dashboard()"
   ]
  },
  {
   "attachments": {},
   "cell_type": "markdown",
   "metadata": {},
   "source": [
    "## `Auto Merging Retrieval`"
   ]
  },
  {
   "cell_type": "code",
   "execution_count": 148,
   "metadata": {},
   "outputs": [],
   "source": [
    "#THe codes below this block will be showing how you can run a query engine using Auto Merge Retrieval"
   ]
  },
  {
   "cell_type": "code",
   "execution_count": 138,
   "metadata": {},
   "outputs": [],
   "source": [
    "from utils import build_automerging_index\n",
    "\n",
    "automerging_index = build_automerging_index(\n",
    "    documents,\n",
    "    llm,\n",
    "    embed_model=embed_model,\n",
    "    save_dir=\"merging_index\"\n",
    ")"
   ]
  },
  {
   "cell_type": "code",
   "execution_count": 139,
   "metadata": {},
   "outputs": [],
   "source": [
    "from utils import get_automerging_query_engine\n",
    "\n",
    "automerging_query_engine = get_automerging_query_engine(\n",
    "    automerging_index,\n",
    ")"
   ]
  },
  {
   "cell_type": "code",
   "execution_count": 140,
   "metadata": {},
   "outputs": [
    {
     "name": "stdout",
     "output_type": "stream",
     "text": [
      "> Merging 3 nodes into parent node.\n",
      "> Parent node id: e3045488-a49d-463a-938a-42c0d8b36eb3.\n",
      "> Parent node text: Unfortunately, not every business problem can be \n",
      "reduced to optimizing test set accuracy! If you...\n",
      "\n",
      "Building a portfolio of projects involves progressing from simple to complex undertakings over time. Communication is essential in explaining the value of your work to others, gaining their trust, and securing resources for larger projects. By effectively communicating your ideas and showcasing the progression of your projects, you can engage colleagues, mentors, and managers to support your initiatives.\n"
     ]
    }
   ],
   "source": [
    "auto_merging_response =automerging_query_engine.query(\n",
    "    \"How do I build a portfolio of AI projects?\"\n",
    ")\n",
    "print(str(auto_merging_response))"
   ]
  },
  {
   "cell_type": "code",
   "execution_count": 141,
   "metadata": {},
   "outputs": [],
   "source": [
    "# tru.reset_database()\n",
    "\n",
    "tru_recorder_automerging = get_prebuilt_trulens_recorder(automerging_query_engine,\n",
    "                                                         app_id=\"Automerging Query Engine\")"
   ]
  },
  {
   "cell_type": "code",
   "execution_count": 142,
   "metadata": {},
   "outputs": [
    {
     "name": "stdout",
     "output_type": "stream",
     "text": [
      "What are the keys to building a career in AI?\n",
      "The keys to building a career in AI are learning foundational technical skills, working on projects, finding a job, and being part of a community.\n",
      "How can teamwork contribute to success in AI?\n",
      "Teamwork can contribute to success in AI by fostering an environment where colleagues work hard, learn continuously, and collaborate to build AI that benefits all people. When individuals work together effectively, they can combine their skills and knowledge to tackle complex AI projects, leading to innovative solutions and successful outcomes. Additionally, being surrounded by motivated and dedicated colleagues can inspire individuals to strive for excellence and contribute positively to the team's overall success in AI endeavors.\n",
      "What is the importance of networking in AI?\n",
      "Networking in AI is crucial as it can provide valuable information, support, and potential job referrals. Building a strong professional network within the AI community can offer assistance, guidance, and opportunities that can propel one's career forward.\n",
      "> Merging 2 nodes into parent node.\n",
      "> Parent node id: fe26956c-9cdd-4ae8-b875-caa66de2b3ea.\n",
      "> Parent node text: 2. Networking:\n",
      "\n",
      "\n",
      "PAGE 36Keys to Building a Career in AI CHAPTER 10\n",
      "Of all the steps in building a...\n",
      "\n",
      "> Merging 1 nodes into parent node.\n",
      "> Parent node id: 49794383-8dd7-4a65-8bd5-79981038b6c5.\n",
      "> Parent node text: Many people start by working on small projects in their spare time. With initial successes — even...\n",
      "\n",
      "What are some good habits to develop for a successful career?\n",
      "Developing good habits in areas such as eating, exercise, sleep, personal relationships, work, learning, and self-care can help individuals move forward in their careers while maintaining their health and well-being.\n",
      "> Merging 2 nodes into parent node.\n",
      "> Parent node id: fe26956c-9cdd-4ae8-b875-caa66de2b3ea.\n",
      "> Parent node text: 2. Networking:\n",
      "\n",
      "\n",
      "PAGE 36Keys to Building a Career in AI CHAPTER 10\n",
      "Of all the steps in building a...\n",
      "\n",
      "> Merging 1 nodes into parent node.\n",
      "> Parent node id: 49794383-8dd7-4a65-8bd5-79981038b6c5.\n",
      "> Parent node text: Many people start by working on small projects in their spare time. With initial successes — even...\n",
      "\n",
      "How can altruism be beneficial in building a career?\n",
      "Helping others during each stage of your own career journey can lead to better outcomes for yourself.\n",
      "> Merging 4 nodes into parent node.\n",
      "> Parent node id: 282f509f-56b5-4e9c-bf43-f0d8858a4037.\n",
      "> Parent node text: PAGE 37Overcoming Imposter \n",
      "SyndromeCHAPTER 11\n",
      "\n",
      "PAGE 38Before we dive into the final chapter of t...\n",
      "\n",
      "What is imposter syndrome and how does it relate to AI?\n",
      "Imposter syndrome is when an individual doubts their accomplishments and has a persistent fear of being exposed as a fraud, despite evidence of their competence. In the context of AI, newcomers to the field may experience imposter syndrome, feeling like they do not truly belong in the AI community even if they have achieved success. This feeling can be common among individuals in AI, including accomplished professionals, due to the technical complexity of the field. The message conveyed is that experiencing challenges and setbacks is a normal part of learning and growth in AI, and that it is important to support and welcome everyone who wants to be part of the AI community.\n",
      "> Merging 3 nodes into parent node.\n",
      "> Parent node id: 282f509f-56b5-4e9c-bf43-f0d8858a4037.\n",
      "> Parent node text: PAGE 37Overcoming Imposter \n",
      "SyndromeCHAPTER 11\n",
      "\n",
      "PAGE 38Before we dive into the final chapter of t...\n",
      "\n",
      "> Merging 3 nodes into parent node.\n",
      "> Parent node id: 975b729d-531a-41be-8c87-b9231ab54fa1.\n",
      "> Parent node text: Doing so will help you, too, \n",
      "as others behind you will recognize your expertise and also encoura...\n",
      "\n",
      "> Merging 1 nodes into parent node.\n",
      "> Parent node id: 49794383-8dd7-4a65-8bd5-79981038b6c5.\n",
      "> Parent node text: Many people start by working on small projects in their spare time. With initial successes — even...\n",
      "\n",
      "> Merging 2 nodes into parent node.\n",
      "> Parent node id: 8ffb4d73-0c0a-410f-81de-ff3545b69d55.\n",
      "> Parent node text: PAGE 37Overcoming Imposter \n",
      "SyndromeCHAPTER 11\n",
      "\n",
      "PAGE 38Before we dive into the final chapter of t...\n",
      "\n",
      "Who are some accomplished individuals who have experienced imposter syndrome?\n",
      "Sheryl Sandberg, Michelle Obama, Tom Hanks, and Mike Cannon-Brookes are some accomplished individuals who have experienced imposter syndrome.\n",
      "What is the first step to becoming good at AI?\n",
      "The first step to becoming good at AI is learning foundational technical skills.\n",
      "> Merging 3 nodes into parent node.\n",
      "> Parent node id: c3cb6f3f-0e29-4bf4-98e8-e2f5edf51235.\n",
      "> Parent node text: Chapters with the \n",
      "cover topics about \n",
      "learning foundational \n",
      "technical skills. After having gain...\n",
      "\n",
      "What are some common challenges in AI?\n",
      "Some common challenges in AI include the evolving nature of technologies, the need to stay updated with changing technology, the difficulty in finding suitable projects and estimating timelines and returns on investment, the iterative nature of AI projects leading to challenges in project management, collaborating with stakeholders who lack expertise in AI, uncertainties in job searching due to companies still defining needed AI skills, and the need to educate potential employers about AI work.\n",
      "> Merging 3 nodes into parent node.\n",
      "> Parent node id: c3cb6f3f-0e29-4bf4-98e8-e2f5edf51235.\n",
      "> Parent node text: Chapters with the \n",
      "cover topics about \n",
      "learning foundational \n",
      "technical skills. After having gain...\n",
      "\n",
      "Is it normal to find parts of AI challenging?\n",
      "Yes, it is normal to find parts of AI challenging, as even experienced individuals in the field have faced difficulties with research papers and tuning neural network hyperparameters. The text emphasizes that struggling with certain aspects of AI is a common experience shared by many, and it is okay to encounter challenges while working in the field.\n",
      "What is the right AI job for me?\n",
      "Choose a position that aligns with your career goals and offers opportunities for skill progression. Consider not only the projects you will be working on but also the quality of your potential teammates, as they can significantly impact your experience and success in the role.\n"
     ]
    }
   ],
   "source": [
    "for question in eval_questions:\n",
    "    with tru_recorder_automerging as recording:\n",
    "        response = automerging_query_engine.query(question)\n",
    "        print(question)\n",
    "        print(response)"
   ]
  },
  {
   "cell_type": "code",
   "execution_count": 143,
   "metadata": {},
   "outputs": [
    {
     "data": {
      "text/html": [
       "<div>\n",
       "<style scoped>\n",
       "    .dataframe tbody tr th:only-of-type {\n",
       "        vertical-align: middle;\n",
       "    }\n",
       "\n",
       "    .dataframe tbody tr th {\n",
       "        vertical-align: top;\n",
       "    }\n",
       "\n",
       "    .dataframe thead th {\n",
       "        text-align: right;\n",
       "    }\n",
       "</style>\n",
       "<table border=\"1\" class=\"dataframe\">\n",
       "  <thead>\n",
       "    <tr style=\"text-align: right;\">\n",
       "      <th></th>\n",
       "      <th>Groundedness</th>\n",
       "      <th>Answer Relevance</th>\n",
       "      <th>Context Relevance</th>\n",
       "      <th>latency</th>\n",
       "      <th>total_cost</th>\n",
       "    </tr>\n",
       "    <tr>\n",
       "      <th>app_id</th>\n",
       "      <th></th>\n",
       "      <th></th>\n",
       "      <th></th>\n",
       "      <th></th>\n",
       "      <th></th>\n",
       "    </tr>\n",
       "  </thead>\n",
       "  <tbody>\n",
       "    <tr>\n",
       "      <th>Direct Query Engine</th>\n",
       "      <td>0.759903</td>\n",
       "      <td>0.881818</td>\n",
       "      <td>0.359091</td>\n",
       "      <td>2.090909</td>\n",
       "      <td>0.002850</td>\n",
       "    </tr>\n",
       "    <tr>\n",
       "      <th>Automerging Query Engine</th>\n",
       "      <td>0.745833</td>\n",
       "      <td>0.940000</td>\n",
       "      <td>0.588889</td>\n",
       "      <td>2.090909</td>\n",
       "      <td>0.000915</td>\n",
       "    </tr>\n",
       "    <tr>\n",
       "      <th>Sentence Window Query Engine</th>\n",
       "      <td>0.686364</td>\n",
       "      <td>0.927273</td>\n",
       "      <td>0.481818</td>\n",
       "      <td>2.090909</td>\n",
       "      <td>0.000933</td>\n",
       "    </tr>\n",
       "  </tbody>\n",
       "</table>\n",
       "</div>"
      ],
      "text/plain": [
       "                              Groundedness  Answer Relevance  \\\n",
       "app_id                                                         \n",
       "Direct Query Engine               0.759903          0.881818   \n",
       "Automerging Query Engine          0.745833          0.940000   \n",
       "Sentence Window Query Engine      0.686364          0.927273   \n",
       "\n",
       "                              Context Relevance   latency  total_cost  \n",
       "app_id                                                                 \n",
       "Direct Query Engine                    0.359091  2.090909    0.002850  \n",
       "Automerging Query Engine               0.588889  2.090909    0.000915  \n",
       "Sentence Window Query Engine           0.481818  2.090909    0.000933  "
      ]
     },
     "execution_count": 143,
     "metadata": {},
     "output_type": "execute_result"
    }
   ],
   "source": [
    "tru.get_leaderboard(app_ids=[])"
   ]
  },
  {
   "cell_type": "code",
   "execution_count": 144,
   "metadata": {},
   "outputs": [
    {
     "name": "stdout",
     "output_type": "stream",
     "text": [
      "Starting dashboard ...\n",
      "Config file already exists. Skipping writing process.\n",
      "Credentials file already exists. Skipping writing process.\n",
      "Dashboard already running at path:   Network URL: http://192.168.0.144:8501\n",
      "\n"
     ]
    },
    {
     "data": {
      "text/plain": [
       "<Popen: returncode: None args: ['streamlit', 'run', '--server.headless=True'...>"
      ]
     },
     "execution_count": 144,
     "metadata": {},
     "output_type": "execute_result"
    }
   ],
   "source": [
    "# launches on http://localhost:8501/\n",
    "tru.run_dashboard()"
   ]
  },
  {
   "cell_type": "code",
   "execution_count": null,
   "metadata": {},
   "outputs": [],
   "source": []
  },
  {
   "cell_type": "code",
   "execution_count": null,
   "metadata": {},
   "outputs": [],
   "source": []
  }
 ],
 "metadata": {
  "kernelspec": {
   "display_name": "myenv",
   "language": "python",
   "name": "python3"
  },
  "language_info": {
   "codemirror_mode": {
    "name": "ipython",
    "version": 3
   },
   "file_extension": ".py",
   "mimetype": "text/x-python",
   "name": "python",
   "nbconvert_exporter": "python",
   "pygments_lexer": "ipython3",
   "version": "3.11.4"
  },
  "orig_nbformat": 4
 },
 "nbformat": 4,
 "nbformat_minor": 2
}
