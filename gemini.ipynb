{
 "cells": [
  {
   "cell_type": "code",
   "execution_count": 1,
   "metadata": {},
   "outputs": [],
   "source": [
    "!pip install -q -U google-generativeai"
   ]
  },
  {
   "cell_type": "code",
   "execution_count": 1,
   "metadata": {},
   "outputs": [
    {
     "name": "stderr",
     "output_type": "stream",
     "text": [
      "/Users/eshantdas/Desktop/gemini/myenv/lib/python3.11/site-packages/tqdm/auto.py:21: TqdmWarning: IProgress not found. Please update jupyter and ipywidgets. See https://ipywidgets.readthedocs.io/en/stable/user_install.html\n",
      "  from .autonotebook import tqdm as notebook_tqdm\n"
     ]
    }
   ],
   "source": [
    "import pathlib\n",
    "import textwrap\n",
    "\n",
    "import google.generativeai as genai\n",
    "\n",
    "\n",
    "\n",
    "from IPython.display import display\n",
    "from IPython.display import Markdown\n",
    "\n",
    "\n",
    "def to_markdown(text):\n",
    "  text = text.replace('•', '  *')\n",
    "  return Markdown(textwrap.indent(text, '> ', predicate=lambda _: True))"
   ]
  },
  {
   "cell_type": "code",
   "execution_count": 2,
   "metadata": {},
   "outputs": [],
   "source": [
    "genai.configure(api_key='your_key')"
   ]
  },
  {
   "attachments": {},
   "cell_type": "markdown",
   "metadata": {},
   "source": [
    "## List models\n",
    "\n",
    "Now you're ready to call the Gemini API. Use `list_models` to see the available Gemini models:\n",
    "\n",
    "* `gemini-pro`: optimized for text-only prompts.\n",
    "* `gemini-pro-vision`: optimized for text-and-images prompts."
   ]
  },
  {
   "cell_type": "code",
   "execution_count": 3,
   "metadata": {},
   "outputs": [
    {
     "name": "stdout",
     "output_type": "stream",
     "text": [
      "models/gemini-1.0-pro\n",
      "models/gemini-1.0-pro-001\n",
      "models/gemini-1.0-pro-latest\n",
      "models/gemini-1.0-pro-vision-latest\n",
      "models/gemini-1.5-pro-latest\n",
      "models/gemini-pro\n",
      "models/gemini-pro-vision\n"
     ]
    }
   ],
   "source": [
    "for m in genai.list_models():\n",
    "  if 'generateContent' in m.supported_generation_methods:\n",
    "    print(m.name)"
   ]
  },
  {
   "cell_type": "code",
   "execution_count": 27,
   "metadata": {},
   "outputs": [],
   "source": [
    "model = genai.GenerativeModel('gemini-pro')"
   ]
  },
  {
   "cell_type": "code",
   "execution_count": 28,
   "metadata": {},
   "outputs": [
    {
     "data": {
      "text/plain": [
       " genai.GenerativeModel(\n",
       "   model_name='models/gemini-pro',\n",
       "   generation_config={}.\n",
       "   safety_settings={}\n",
       ")"
      ]
     },
     "execution_count": 28,
     "metadata": {},
     "output_type": "execute_result"
    }
   ],
   "source": [
    "model"
   ]
  },
  {
   "cell_type": "code",
   "execution_count": 29,
   "metadata": {},
   "outputs": [
    {
     "name": "stdout",
     "output_type": "stream",
     "text": [
      "<google.generativeai.types.generation_types.GenerateContentResponse object at 0x1169cda50>\n",
      "CPU times: user 2.45 ms, sys: 2.28 ms, total: 4.74 ms\n",
      "Wall time: 4.62 s\n"
     ]
    }
   ],
   "source": [
    "%%time\n",
    "response = model.generate_content(\"What is the meaning of life?\")\n",
    "print(response)"
   ]
  },
  {
   "cell_type": "code",
   "execution_count": 30,
   "metadata": {},
   "outputs": [
    {
     "name": "stdout",
     "output_type": "stream",
     "text": [
      "The meaning of life is a philosophical question that has been pondered by humans for centuries. There is no one definitive answer, and the meaning of life may vary from person to person. Some common themes that emerge when people reflect on the meaning of life include:\n",
      "\n",
      "* **Finding purpose and fulfillment:** Many people find meaning in their lives by pursuing their passions, making a difference in the world, or forming meaningful relationships.\n",
      "* **Experiencing the present moment:** Some people believe that the meaning of life lies in appreciating the present moment and savoring the simple pleasures of life.\n",
      "* **Making a positive impact on others:** Helping others and making a positive contribution to the world can give people a sense of purpose and meaning.\n",
      "* **Living in accordance with one's values:** Aligning one's actions and beliefs with their personal values can provide a sense of authenticity and meaning.\n",
      "* **Seeking personal growth and enlightenment:** Pursuing knowledge, wisdom, and greater understanding of oneself and the world can be seen as a meaningful endeavor.\n",
      "\n",
      "Ultimately, the meaning of life is a deeply personal question, and each individual must find their own unique answer. It may evolve over time as one's experiences, perspectives, and values change.\n"
     ]
    }
   ],
   "source": [
    "print(response.text)"
   ]
  },
  {
   "cell_type": "code",
   "execution_count": 7,
   "metadata": {},
   "outputs": [
    {
     "name": "stdout",
     "output_type": "stream",
     "text": [
      "<google.generativeai.types.generation_types.GenerateContentResponse object at 0x115dfda10>\n",
      "CPU times: user 3.8 ms, sys: 2.56 ms, total: 6.35 ms\n",
      "Wall time: 3.62 s\n"
     ]
    }
   ],
   "source": [
    "%%time\n",
    "response = model.generate_content(\"Write a program to find a neon number in python\")\n",
    "print(response)"
   ]
  },
  {
   "cell_type": "code",
   "execution_count": 8,
   "metadata": {},
   "outputs": [
    {
     "name": "stdout",
     "output_type": "stream",
     "text": [
      "```python\n",
      "# A function to check if the given number is a Neon number or not\n",
      "def isNeon(n): \n",
      "      \n",
      "    # Find the square of the number \n",
      "    sqr = n * n \n",
      "  \n",
      "    # Find the sum of digits in the square\n",
      "    sum = 0\n",
      "    while (sqr > 0): \n",
      "        sum += sqr % 10\n",
      "        sqr //= 10\n",
      "  \n",
      "    # If the sum is equal to the given number, \n",
      "    # then it is a Neon number\n",
      "    return (sum == n) \n",
      "  \n",
      "# Driver code to test above function \n",
      "n = int(input(\"enter the number : \"))\n",
      "if (isNeon(n)): \n",
      "    print (\"The number is a Neon number\") \n",
      "else: \n",
      "    print (\"The number is not a Neon number\") \n",
      "```\n"
     ]
    }
   ],
   "source": [
    "print(response.text)"
   ]
  },
  {
   "cell_type": "code",
   "execution_count": 9,
   "metadata": {},
   "outputs": [
    {
     "data": {
      "text/markdown": [
       "> ```python\n",
       "> # A function to check if the given number is a Neon number or not\n",
       "> def isNeon(n): \n",
       ">       \n",
       ">     # Find the square of the number \n",
       ">     sqr = n * n \n",
       ">   \n",
       ">     # Find the sum of digits in the square\n",
       ">     sum = 0\n",
       ">     while (sqr > 0): \n",
       ">         sum += sqr % 10\n",
       ">         sqr //= 10\n",
       ">   \n",
       ">     # If the sum is equal to the given number, \n",
       ">     # then it is a Neon number\n",
       ">     return (sum == n) \n",
       ">   \n",
       "> # Driver code to test above function \n",
       "> n = int(input(\"enter the number : \"))\n",
       "> if (isNeon(n)): \n",
       ">     print (\"The number is a Neon number\") \n",
       "> else: \n",
       ">     print (\"The number is not a Neon number\") \n",
       "> ```"
      ],
      "text/plain": [
       "<IPython.core.display.Markdown object>"
      ]
     },
     "execution_count": 9,
     "metadata": {},
     "output_type": "execute_result"
    }
   ],
   "source": [
    "to_markdown(response.text)"
   ]
  },
  {
   "cell_type": "code",
   "execution_count": 10,
   "metadata": {},
   "outputs": [
    {
     "data": {
      "text/plain": []
     },
     "execution_count": 10,
     "metadata": {},
     "output_type": "execute_result"
    }
   ],
   "source": [
    "response.prompt_feedback"
   ]
  },
  {
   "cell_type": "code",
   "execution_count": null,
   "metadata": {},
   "outputs": [],
   "source": []
  },
  {
   "cell_type": "code",
   "execution_count": 11,
   "metadata": {},
   "outputs": [
    {
     "name": "stdout",
     "output_type": "stream",
     "text": [
      "<google.generativeai.types.generation_types.GenerateContentResponse object at 0x1159b7a90>\n",
      "CPU times: user 5.36 ms, sys: 4.6 ms, total: 9.96 ms\n",
      "Wall time: 9.31 s\n"
     ]
    }
   ],
   "source": [
    "%%time\n",
    "response = model.generate_content(\"Give me the difference between fastAPi and FLask\")\n",
    "print(response)"
   ]
  },
  {
   "cell_type": "code",
   "execution_count": 12,
   "metadata": {},
   "outputs": [
    {
     "name": "stdout",
     "output_type": "stream",
     "text": [
      "**FastAPI** and **Flask** are both popular Python web frameworks used for building REST APIs. They share some similarities, but there are also key differences between the two.\n",
      "\n",
      "**Performance:**\n",
      "* FastAPI is generally considered to be faster than Flask, especially for large-scale applications with high traffic. FastAPI uses asynchronous programming, which allows it to handle multiple requests concurrently, resulting in improved performance and scalability.\n",
      "\n",
      "**Code Structure:**\n",
      "* FastAPI has a more structured and opinionated code structure compared to Flask. It enforces a specific architecture where routes, dependencies, and data models are clearly separated and organized, making it easier to maintain complex APIs.\n",
      "\n",
      "**Dependency Injection:**\n",
      "* FastAPI supports dependency injection out of the box. This allows you to define dependencies and pass them to various parts of your API, making it easier to manage complex object relationships and modularize your codebase.\n",
      "\n",
      "**Validation and Serialization:**\n",
      "* FastAPI comes with built-in support for data validation and serialization, making it easy to enforce data integrity and convert data between different formats (e.g., JSON, XML).\n",
      "\n",
      "**Documentation:**\n",
      "* FastAPI provides automatic documentation generation, allowing you to easily create API documentation based on your code.\n",
      "\n",
      "**Asynchronicity:**\n",
      "* FastAPI is fully asynchronous, which means it can handle multiple requests simultaneously, improving performance. Flask is not asynchronous by default, but it can be integrated with asynchronous libraries.\n",
      "\n",
      "**Object-Oriented vs. Decorator-Based Routing:**\n",
      "* FastAPI uses a class-based approach for defining routes, while Flask uses decorators. FastAPI's approach is more object-oriented and supports more advanced features like dependency injection.\n",
      "\n",
      "**Simplicity:**\n",
      "* Flask is generally considered to be easier to learn and use for simple APIs. It has a simpler configuration and requires less boilerplate code compared to FastAPI.\n",
      "\n",
      "**Use Cases:**\n",
      "* FastAPI is ideal for building high-performance, complex APIs that require asynchronous processing, dependency injection, and advanced validation features.\n",
      "* Flask is a good choice for simpler APIs that do not require the advanced capabilities of FastAPI. It is suitable for beginners and rapid prototyping.\n",
      "\n",
      "**Additional Features:**\n",
      "\n",
      "**FastAPI:**\n",
      "* OpenAPI schema generation\n",
      "* JWT token support\n",
      "* CORS handling\n",
      "* Background tasks\n",
      "\n",
      "**Flask:**\n",
      "* Template engine (Jinja2)\n",
      "* Database integration (SQLAlchemy)\n",
      "* WebSockets support\n",
      "\n",
      "Ultimately, the choice between FastAPI and Flask depends on the specific requirements and complexity of your API. For large-scale, performance-critical APIs, FastAPI is a better choice. For simpler APIs or projects where simplicity and ease of use are prioritized, Flask may be more suitable.\n"
     ]
    }
   ],
   "source": [
    "print(response.text)"
   ]
  },
  {
   "cell_type": "code",
   "execution_count": 13,
   "metadata": {},
   "outputs": [
    {
     "data": {
      "text/markdown": [
       "> **FastAPI** and **Flask** are both popular Python web frameworks used for building REST APIs. They share some similarities, but there are also key differences between the two.\n",
       "> \n",
       "> **Performance:**\n",
       "> * FastAPI is generally considered to be faster than Flask, especially for large-scale applications with high traffic. FastAPI uses asynchronous programming, which allows it to handle multiple requests concurrently, resulting in improved performance and scalability.\n",
       "> \n",
       "> **Code Structure:**\n",
       "> * FastAPI has a more structured and opinionated code structure compared to Flask. It enforces a specific architecture where routes, dependencies, and data models are clearly separated and organized, making it easier to maintain complex APIs.\n",
       "> \n",
       "> **Dependency Injection:**\n",
       "> * FastAPI supports dependency injection out of the box. This allows you to define dependencies and pass them to various parts of your API, making it easier to manage complex object relationships and modularize your codebase.\n",
       "> \n",
       "> **Validation and Serialization:**\n",
       "> * FastAPI comes with built-in support for data validation and serialization, making it easy to enforce data integrity and convert data between different formats (e.g., JSON, XML).\n",
       "> \n",
       "> **Documentation:**\n",
       "> * FastAPI provides automatic documentation generation, allowing you to easily create API documentation based on your code.\n",
       "> \n",
       "> **Asynchronicity:**\n",
       "> * FastAPI is fully asynchronous, which means it can handle multiple requests simultaneously, improving performance. Flask is not asynchronous by default, but it can be integrated with asynchronous libraries.\n",
       "> \n",
       "> **Object-Oriented vs. Decorator-Based Routing:**\n",
       "> * FastAPI uses a class-based approach for defining routes, while Flask uses decorators. FastAPI's approach is more object-oriented and supports more advanced features like dependency injection.\n",
       "> \n",
       "> **Simplicity:**\n",
       "> * Flask is generally considered to be easier to learn and use for simple APIs. It has a simpler configuration and requires less boilerplate code compared to FastAPI.\n",
       "> \n",
       "> **Use Cases:**\n",
       "> * FastAPI is ideal for building high-performance, complex APIs that require asynchronous processing, dependency injection, and advanced validation features.\n",
       "> * Flask is a good choice for simpler APIs that do not require the advanced capabilities of FastAPI. It is suitable for beginners and rapid prototyping.\n",
       "> \n",
       "> **Additional Features:**\n",
       "> \n",
       "> **FastAPI:**\n",
       "> * OpenAPI schema generation\n",
       "> * JWT token support\n",
       "> * CORS handling\n",
       "> * Background tasks\n",
       "> \n",
       "> **Flask:**\n",
       "> * Template engine (Jinja2)\n",
       "> * Database integration (SQLAlchemy)\n",
       "> * WebSockets support\n",
       "> \n",
       "> Ultimately, the choice between FastAPI and Flask depends on the specific requirements and complexity of your API. For large-scale, performance-critical APIs, FastAPI is a better choice. For simpler APIs or projects where simplicity and ease of use are prioritized, Flask may be more suitable."
      ],
      "text/plain": [
       "<IPython.core.display.Markdown object>"
      ]
     },
     "execution_count": 13,
     "metadata": {},
     "output_type": "execute_result"
    }
   ],
   "source": [
    "to_markdown(response.text)"
   ]
  },
  {
   "cell_type": "code",
   "execution_count": null,
   "metadata": {},
   "outputs": [],
   "source": []
  },
  {
   "cell_type": "code",
   "execution_count": null,
   "metadata": {},
   "outputs": [],
   "source": []
  },
  {
   "cell_type": "code",
   "execution_count": 14,
   "metadata": {},
   "outputs": [
    {
     "data": {
      "text/plain": [
       "[index: 0\n",
       "content {\n",
       "  parts {\n",
       "    text: \"**FastAPI** and **Flask** are both popular Python web frameworks used for building REST APIs. They share some similarities, but there are also key differences between the two.\\n\\n**Performance:**\\n* FastAPI is generally considered to be faster than Flask, especially for large-scale applications with high traffic. FastAPI uses asynchronous programming, which allows it to handle multiple requests concurrently, resulting in improved performance and scalability.\\n\\n**Code Structure:**\\n* FastAPI has a more structured and opinionated code structure compared to Flask. It enforces a specific architecture where routes, dependencies, and data models are clearly separated and organized, making it easier to maintain complex APIs.\\n\\n**Dependency Injection:**\\n* FastAPI supports dependency injection out of the box. This allows you to define dependencies and pass them to various parts of your API, making it easier to manage complex object relationships and modularize your codebase.\\n\\n**Validation and Serialization:**\\n* FastAPI comes with built-in support for data validation and serialization, making it easy to enforce data integrity and convert data between different formats (e.g., JSON, XML).\\n\\n**Documentation:**\\n* FastAPI provides automatic documentation generation, allowing you to easily create API documentation based on your code.\\n\\n**Asynchronicity:**\\n* FastAPI is fully asynchronous, which means it can handle multiple requests simultaneously, improving performance. Flask is not asynchronous by default, but it can be integrated with asynchronous libraries.\\n\\n**Object-Oriented vs. Decorator-Based Routing:**\\n* FastAPI uses a class-based approach for defining routes, while Flask uses decorators. FastAPI\\'s approach is more object-oriented and supports more advanced features like dependency injection.\\n\\n**Simplicity:**\\n* Flask is generally considered to be easier to learn and use for simple APIs. It has a simpler configuration and requires less boilerplate code compared to FastAPI.\\n\\n**Use Cases:**\\n* FastAPI is ideal for building high-performance, complex APIs that require asynchronous processing, dependency injection, and advanced validation features.\\n* Flask is a good choice for simpler APIs that do not require the advanced capabilities of FastAPI. It is suitable for beginners and rapid prototyping.\\n\\n**Additional Features:**\\n\\n**FastAPI:**\\n* OpenAPI schema generation\\n* JWT token support\\n* CORS handling\\n* Background tasks\\n\\n**Flask:**\\n* Template engine (Jinja2)\\n* Database integration (SQLAlchemy)\\n* WebSockets support\\n\\nUltimately, the choice between FastAPI and Flask depends on the specific requirements and complexity of your API. For large-scale, performance-critical APIs, FastAPI is a better choice. For simpler APIs or projects where simplicity and ease of use are prioritized, Flask may be more suitable.\"\n",
       "  }\n",
       "  role: \"model\"\n",
       "}\n",
       "finish_reason: STOP\n",
       "safety_ratings {\n",
       "  category: HARM_CATEGORY_SEXUALLY_EXPLICIT\n",
       "  probability: NEGLIGIBLE\n",
       "}\n",
       "safety_ratings {\n",
       "  category: HARM_CATEGORY_HATE_SPEECH\n",
       "  probability: NEGLIGIBLE\n",
       "}\n",
       "safety_ratings {\n",
       "  category: HARM_CATEGORY_HARASSMENT\n",
       "  probability: NEGLIGIBLE\n",
       "}\n",
       "safety_ratings {\n",
       "  category: HARM_CATEGORY_DANGEROUS_CONTENT\n",
       "  probability: NEGLIGIBLE\n",
       "}\n",
       "]"
      ]
     },
     "execution_count": 14,
     "metadata": {},
     "output_type": "execute_result"
    }
   ],
   "source": [
    "response.candidates"
   ]
  },
  {
   "cell_type": "code",
   "execution_count": null,
   "metadata": {},
   "outputs": [],
   "source": []
  },
  {
   "cell_type": "code",
   "execution_count": 34,
   "metadata": {},
   "outputs": [
    {
     "name": "stdout",
     "output_type": "stream",
     "text": [
      "CPU times: user 1.97 ms, sys: 2.26 ms, total: 4.23 ms\n",
      "Wall time: 1.07 s\n"
     ]
    }
   ],
   "source": [
    "%%time\n",
    "response = model.generate_content(\"What is the meaning of life?\", stream=True)"
   ]
  },
  {
   "cell_type": "code",
   "execution_count": 35,
   "metadata": {},
   "outputs": [
    {
     "name": "stdout",
     "output_type": "stream",
     "text": [
      "**The meaning of life is a profoundly complex and subjective question that has fascinated philosophers\n",
      "________________________________________________________________________________\n",
      ", theologians, and individuals throughout history. There is no single universally accepted answer, and individuals may find meaning through a variety of sources and experiences.**\n",
      "\n",
      "**Here\n",
      "________________________________________________________________________________\n",
      " are some common perspectives on the meaning of life:**\n",
      "\n",
      "- **Objective Meaning:** Some people believe that life has an inherent or pre-determined meaning that is independent of our personal experiences or interpretations. This meaning may be defined by a higher power, natural law, or universal principles.\n",
      "\n",
      "- **Subjective Meaning:** Others\n",
      "________________________________________________________________________________\n",
      " argue that the meaning of life is entirely personal and subjective. Each individual constructs their own meaning through their experiences, values, and choices.\n",
      "\n",
      "- **Purpose or Goal:** Some people find meaning in achieving a specific purpose or goal. This could be related to career, relationships, personal growth, or making a positive impact on the world.\n",
      "\n",
      "- **Happiness or Fulfillment:** For many people, the meaning of life is found in pursuing happiness, fulfillment, or contentment. This may involve engaging in activities that bring joy, fostering meaningful relationships, and living in accordance with one's values.\n",
      "\n",
      "- **Growth and Transformation:** Others find meaning in\n",
      "________________________________________________________________________________\n",
      " the journey of personal growth and transformation. This may involve facing challenges, learning from experiences, and evolving into a more conscious and compassionate individual.\n",
      "\n",
      "**Existential Perspectives:**\n",
      "\n",
      "- **Meaninglessness:** Some existentialist philosophers argue that life is inherently meaningless and that we must create our own meaning through our actions and choices.\n",
      "\n",
      "- **Absurdity:** Others suggest that the universe is fundamentally absurd, and that our search for meaning is ultimately futile.\n",
      "\n",
      "- **Authenticity:** Existentialists emphasize the importance of living an authentic life, true to one's values and beliefs, regardless of the perceived absurdity or meaninglessness of existence.\n",
      "\n",
      "**Theological Perspectives:**\n",
      "\n",
      "- **Divine Purpose:** Many religions teach that life has a divine purpose or meaning ordained by a higher power. This purpose may be related to salvation, redemption, or fulfilling a role in God's plan.\n",
      "\n",
      "- **Love and Compassion:** Other religious traditions emphasize the importance of love, compassion, and service to others as the central meaning of life.\n",
      "\n",
      "**Other Perspectives:**\n",
      "\n",
      "- **Science and Reason:** Some scientists and philosophers argue that the meaning of life can be understood through scientific inquiry and rational analysis, leading to knowledge and technological advancements.\n",
      "\n",
      "- **Art and Creativity:** Artists and creatives\n",
      "________________________________________________________________________________\n",
      " find meaning in expressing themselves through art, music, literature, or other creative pursuits.\n",
      "\n",
      "- **Nature and the Environment:** Some individuals find deep meaning in connecting with nature and protecting the environment, seeing their lives as part of a larger interconnected web.\n",
      "\n",
      "**Ultimately, the meaning of life is a personal and ongoing quest that unfolds through our experiences and choices. It is a journey of self-discovery, purpose, and connection with the world around us.**\n",
      "________________________________________________________________________________\n"
     ]
    }
   ],
   "source": [
    "for chunk in response:\n",
    "  print(chunk.text)\n",
    "  print(\"_\"*80)"
   ]
  },
  {
   "cell_type": "code",
   "execution_count": null,
   "metadata": {},
   "outputs": [],
   "source": []
  },
  {
   "cell_type": "code",
   "execution_count": 36,
   "metadata": {},
   "outputs": [],
   "source": [
    "import PIL.Image"
   ]
  },
  {
   "cell_type": "code",
   "execution_count": 37,
   "metadata": {},
   "outputs": [],
   "source": [
    "from pathlib import Path"
   ]
  },
  {
   "cell_type": "code",
   "execution_count": 38,
   "metadata": {},
   "outputs": [],
   "source": [
    "image_parts = [\n",
    "  {\n",
    "    \"mime_type\": \"image/jpeg\",\n",
    "    \"data\": Path(\"img.jpg\").read_bytes()\n",
    "  },\n",
    "]\n"
   ]
  },
  {
   "cell_type": "code",
   "execution_count": 39,
   "metadata": {},
   "outputs": [],
   "source": [
    "prompt_parts = [\n",
    "  \"What is this image\",\n",
    "  image_parts[0],\n",
    "]\n"
   ]
  },
  {
   "cell_type": "code",
   "execution_count": 21,
   "metadata": {},
   "outputs": [
    {
     "data": {
      "image/jpeg": "[encoded data removed]",
      "image/png": "[encoded data removed]",
      "text/plain": [
       "<PIL.JpegImagePlugin.JpegImageFile image mode=RGB size=264x145>"
      ]
     },
     "execution_count": 21,
     "metadata": {},
     "output_type": "execute_result"
    }
   ],
   "source": [
    "img = PIL.Image.open('img.jpg')\n",
    "img"
   ]
  },
  {
   "cell_type": "code",
   "execution_count": 40,
   "metadata": {},
   "outputs": [],
   "source": [
    "model = genai.GenerativeModel('gemini-pro-vision')"
   ]
  },
  {
   "cell_type": "code",
   "execution_count": 41,
   "metadata": {},
   "outputs": [
    {
     "name": "stdout",
     "output_type": "stream",
     "text": [
      " A Beagle puppy playing with a red ball.\n"
     ]
    }
   ],
   "source": [
    "response = model.generate_content(prompt_parts)\n",
    "print(response.text)\n"
   ]
  },
  {
   "cell_type": "code",
   "execution_count": 23,
   "metadata": {},
   "outputs": [],
   "source": [
    "model = genai.GenerativeModel('gemini-pro-vision')"
   ]
  },
  {
   "cell_type": "code",
   "execution_count": null,
   "metadata": {},
   "outputs": [],
   "source": []
  },
  {
   "cell_type": "code",
   "execution_count": null,
   "metadata": {},
   "outputs": [],
   "source": []
  }
 ],
 "metadata": {
  "kernelspec": {
   "display_name": "myenv",
   "language": "python",
   "name": "python3"
  },
  "language_info": {
   "codemirror_mode": {
    "name": "ipython",
    "version": 3
   },
   "file_extension": ".py",
   "mimetype": "text/x-python",
   "name": "python",
   "nbconvert_exporter": "python",
   "pygments_lexer": "ipython3",
   "version": "3.11.4"
  },
  "orig_nbformat": 4
 },
 "nbformat": 4,
 "nbformat_minor": 2
}
